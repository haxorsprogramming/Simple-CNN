{
  "cells": [
    {
      "cell_type": "markdown",
      "metadata": {
        "id": "view-in-github",
        "colab_type": "text"
      },
      "source": [
        "<a href=\"https://colab.research.google.com/github/haxorsprogramming/Simple-CNN/blob/main/CNN_ADITIA.ipynb\" target=\"_parent\"><img src=\"https://colab.research.google.com/assets/colab-badge.svg\" alt=\"Open In Colab\"/></a>"
      ]
    },
    {
      "cell_type": "markdown",
      "metadata": {
        "id": "zbVlszUmXqQF"
      },
      "source": [
        "Import libary"
      ]
    },
    {
      "cell_type": "code",
      "execution_count": 212,
      "metadata": {
        "id": "4kFVsfVSWx4J"
      },
      "outputs": [],
      "source": [
        "import os\n",
        "import pathlib\n",
        "import tensorflow as tf\n",
        "import matplotlib.pyplot as plt"
      ]
    },
    {
      "cell_type": "code",
      "execution_count": 213,
      "metadata": {
        "id": "eZdp2-kOXusz"
      },
      "outputs": [],
      "source": [
        "from tensorflow import keras\n",
        "from tensorflow.keras import layers\n",
        "from tensorflow.keras.models import Sequential"
      ]
    },
    {
      "cell_type": "code",
      "execution_count": 214,
      "metadata": {
        "id": "6L_5m2CfX1oL"
      },
      "outputs": [],
      "source": [
        "data_model = \"model\"\n",
        "dataset_dir = \"dataset\""
      ]
    },
    {
      "cell_type": "code",
      "execution_count": 215,
      "metadata": {
        "id": "UccMpp7oX4qL"
      },
      "outputs": [],
      "source": [
        "data_dir = pathlib.Path(dataset_dir)"
      ]
    },
    {
      "cell_type": "code",
      "execution_count": 216,
      "metadata": {
        "id": "paDZc-uiX6SD"
      },
      "outputs": [],
      "source": [
        "batch_size = 32\n",
        "size = 180"
      ]
    },
    {
      "cell_type": "code",
      "execution_count": 217,
      "metadata": {
        "colab": {
          "base_uri": "https://localhost:8080/"
        },
        "id": "oHCiAZcsX8u7",
        "outputId": "cdcd5076-6633-45dc-ddae-ed320b72d7d8"
      },
      "outputs": [
        {
          "output_type": "stream",
          "name": "stdout",
          "text": [
            "Found 120 files belonging to 5 classes.\n",
            "Using 96 files for training.\n"
          ]
        }
      ],
      "source": [
        "train_dataset = tf.keras.preprocessing.image_dataset_from_directory(\n",
        "    data_dir,\n",
        "    validation_split=0.2,\n",
        "    subset=\"training\",\n",
        "    seed=123,\n",
        "    image_size=(size, size),\n",
        "    batch_size=batch_size\n",
        ")"
      ]
    },
    {
      "cell_type": "code",
      "execution_count": 218,
      "metadata": {
        "colab": {
          "base_uri": "https://localhost:8080/"
        },
        "id": "QPtEi0JNYDiU",
        "outputId": "35619b76-4d64-457c-b14c-564f370d6767"
      },
      "outputs": [
        {
          "output_type": "stream",
          "name": "stdout",
          "text": [
            "Found 120 files belonging to 5 classes.\n",
            "Using 24 files for validation.\n"
          ]
        }
      ],
      "source": [
        "val_dataset = tf.keras.preprocessing.image_dataset_from_directory(\n",
        "    data_dir,\n",
        "    validation_split=0.2,\n",
        "    subset=\"validation\",\n",
        "    seed=123,\n",
        "    image_size=(size, size),\n",
        "    batch_size=batch_size\n",
        ")"
      ]
    },
    {
      "cell_type": "code",
      "execution_count": 219,
      "metadata": {
        "id": "vr9TtnaOYFhc"
      },
      "outputs": [],
      "source": [
        "class_names = train_dataset.class_names"
      ]
    },
    {
      "cell_type": "code",
      "execution_count": 220,
      "metadata": {
        "id": "41v4mX9bYHB7"
      },
      "outputs": [],
      "source": [
        "AUTOTUNE = tf.data.AUTOTUNE"
      ]
    },
    {
      "cell_type": "code",
      "execution_count": 221,
      "metadata": {
        "id": "tYAPVD7hYJOz"
      },
      "outputs": [],
      "source": [
        "train_dataset = train_dataset.cache().shuffle(1000).prefetch(buffer_size=AUTOTUNE)\n",
        "val_dataset = val_dataset.cache().prefetch(buffer_size=AUTOTUNE)"
      ]
    },
    {
      "cell_type": "code",
      "execution_count": 222,
      "metadata": {
        "id": "wbC2S9tPYLDl"
      },
      "outputs": [],
      "source": [
        "normalization_layer = layers.experimental.preprocessing.Rescaling(1./255)"
      ]
    },
    {
      "cell_type": "code",
      "execution_count": 223,
      "metadata": {
        "id": "hsnxbLfRYMhV"
      },
      "outputs": [],
      "source": [
        "normalized_dataset = train_dataset.map(lambda x, y: (normalization_layer(x), y))\n",
        "image_batch, labels_batch = next(iter(normalized_dataset))\n",
        "first_image = image_batch[0]"
      ]
    },
    {
      "cell_type": "code",
      "execution_count": 224,
      "metadata": {
        "id": "E_bu1boQYOmL"
      },
      "outputs": [],
      "source": [
        "num_classes = len(class_names)"
      ]
    },
    {
      "cell_type": "code",
      "execution_count": 225,
      "metadata": {
        "id": "nHSjBWbmYRpj"
      },
      "outputs": [],
      "source": [
        "model = Sequential([\n",
        "    layers.experimental.preprocessing.Rescaling(1./255, input_shape=(size, size, 3)),\n",
        "    layers.Conv2D(16, 3, padding='same', activation='relu'),\n",
        "    layers.MaxPooling2D(),\n",
        "    layers.Conv2D(32, 3, padding='same', activation='relu'),\n",
        "    layers.MaxPooling2D(),\n",
        "    layers.Conv2D(64, 3, padding='same', activation='relu'),\n",
        "    layers.MaxPooling2D(),\n",
        "    layers.Flatten(),\n",
        "    layers.Dense(128, activation='relu'),\n",
        "    layers.Dense(num_classes)    \n",
        "])\n"
      ]
    },
    {
      "cell_type": "code",
      "execution_count": 226,
      "metadata": {
        "id": "p7EPqAlgYTgr"
      },
      "outputs": [],
      "source": [
        "model.compile(\n",
        "    optimizer='adam',\n",
        "    loss=tf.keras.losses.SparseCategoricalCrossentropy(from_logits=True),\n",
        "    metrics=['accuracy']\n",
        ")"
      ]
    },
    {
      "cell_type": "code",
      "execution_count": 227,
      "metadata": {
        "colab": {
          "base_uri": "https://localhost:8080/"
        },
        "id": "reBxUkQaYVRb",
        "outputId": "841e23ef-ea14-4862-f202-ffe200ae3786"
      },
      "outputs": [
        {
          "output_type": "stream",
          "name": "stdout",
          "text": [
            "Model: \"sequential_12\"\n",
            "_________________________________________________________________\n",
            " Layer (type)                Output Shape              Param #   \n",
            "=================================================================\n",
            " rescaling_13 (Rescaling)    (None, 180, 180, 3)       0         \n",
            "                                                                 \n",
            " conv2d_24 (Conv2D)          (None, 180, 180, 16)      448       \n",
            "                                                                 \n",
            " max_pooling2d_24 (MaxPoolin  (None, 90, 90, 16)       0         \n",
            " g2D)                                                            \n",
            "                                                                 \n",
            " conv2d_25 (Conv2D)          (None, 90, 90, 32)        4640      \n",
            "                                                                 \n",
            " max_pooling2d_25 (MaxPoolin  (None, 45, 45, 32)       0         \n",
            " g2D)                                                            \n",
            "                                                                 \n",
            " conv2d_26 (Conv2D)          (None, 45, 45, 64)        18496     \n",
            "                                                                 \n",
            " max_pooling2d_26 (MaxPoolin  (None, 22, 22, 64)       0         \n",
            " g2D)                                                            \n",
            "                                                                 \n",
            " flatten_8 (Flatten)         (None, 30976)             0         \n",
            "                                                                 \n",
            " dense_16 (Dense)            (None, 128)               3965056   \n",
            "                                                                 \n",
            " dense_17 (Dense)            (None, 5)                 645       \n",
            "                                                                 \n",
            "=================================================================\n",
            "Total params: 3,989,285\n",
            "Trainable params: 3,989,285\n",
            "Non-trainable params: 0\n",
            "_________________________________________________________________\n"
          ]
        }
      ],
      "source": [
        "model.summary()"
      ]
    },
    {
      "cell_type": "code",
      "execution_count": 228,
      "metadata": {
        "id": "G4_WiA1XYY5q"
      },
      "outputs": [],
      "source": [
        "epochs = 10"
      ]
    },
    {
      "cell_type": "code",
      "execution_count": 229,
      "metadata": {
        "colab": {
          "base_uri": "https://localhost:8080/"
        },
        "id": "gLO49lgnYalT",
        "outputId": "19c030ee-d97e-4bac-fedb-f7e933bcaed4"
      },
      "outputs": [
        {
          "output_type": "stream",
          "name": "stdout",
          "text": [
            "Epoch 1/10\n",
            "3/3 [==============================] - 4s 1s/step - loss: 2.2430 - accuracy: 0.1771 - val_loss: 1.4618 - val_accuracy: 0.2083\n",
            "Epoch 2/10\n",
            "3/3 [==============================] - 3s 1s/step - loss: 1.4497 - accuracy: 0.2917 - val_loss: 1.3788 - val_accuracy: 0.2917\n",
            "Epoch 3/10\n",
            "3/3 [==============================] - 3s 1s/step - loss: 1.3639 - accuracy: 0.3125 - val_loss: 1.4251 - val_accuracy: 0.3333\n",
            "Epoch 4/10\n",
            "3/3 [==============================] - 3s 1s/step - loss: 1.2627 - accuracy: 0.5000 - val_loss: 1.3917 - val_accuracy: 0.2083\n",
            "Epoch 5/10\n",
            "3/3 [==============================] - 3s 1s/step - loss: 1.1128 - accuracy: 0.5312 - val_loss: 1.4700 - val_accuracy: 0.2500\n",
            "Epoch 6/10\n",
            "3/3 [==============================] - 3s 1s/step - loss: 0.9124 - accuracy: 0.7083 - val_loss: 1.2530 - val_accuracy: 0.4583\n",
            "Epoch 7/10\n",
            "3/3 [==============================] - 3s 1s/step - loss: 0.7207 - accuracy: 0.7708 - val_loss: 1.2032 - val_accuracy: 0.5000\n",
            "Epoch 8/10\n",
            "3/3 [==============================] - 3s 1s/step - loss: 0.5280 - accuracy: 0.8333 - val_loss: 1.2501 - val_accuracy: 0.4583\n",
            "Epoch 9/10\n",
            "3/3 [==============================] - 3s 1s/step - loss: 0.3842 - accuracy: 0.9062 - val_loss: 1.1030 - val_accuracy: 0.6250\n",
            "Epoch 10/10\n",
            "3/3 [==============================] - 3s 1s/step - loss: 0.3331 - accuracy: 0.8750 - val_loss: 1.6186 - val_accuracy: 0.4583\n"
          ]
        }
      ],
      "source": [
        "history = model.fit(\n",
        "    train_dataset,\n",
        "    validation_data=val_dataset,\n",
        "    epochs=epochs\n",
        ")\n"
      ]
    },
    {
      "cell_type": "code",
      "execution_count": 230,
      "metadata": {
        "id": "_I9FRBpyYkMr"
      },
      "outputs": [],
      "source": [
        "acc = history.history['accuracy']\n",
        "val_acc = history.history['val_accuracy']\n",
        "\n",
        "loss = history.history['loss']\n",
        "val_loss = history.history['val_loss']\n",
        "\n",
        "epochs_range = range(epochs)"
      ]
    },
    {
      "cell_type": "code",
      "execution_count": 231,
      "metadata": {
        "colab": {
          "base_uri": "https://localhost:8080/",
          "height": 499
        },
        "id": "o-fwSHx1YmwL",
        "outputId": "1c9230d6-551b-46a6-d252-3ba2504a7969"
      },
      "outputs": [
        {
          "output_type": "display_data",
          "data": {
            "text/plain": [
              "<Figure size 576x576 with 2 Axes>"
            ],
            "image/png": "[encoded data removed]"
          },
          "metadata": {
            "needs_background": "light"
          }
        }
      ],
      "source": [
        "plt.figure(figsize=(8, 8))\n",
        "plt.subplot(1, 2, 1)\n",
        "plt.plot(epochs_range, acc, label='Training Accuracy')\n",
        "plt.plot(epochs_range, val_acc, label='Validation Accuracy')\n",
        "plt.legend(loc='lower right')\n",
        "plt.title('Training and Validation Accuracy')\n",
        "\n",
        "#Grafik training and validation loss\n",
        "plt.subplot(1, 2, 2)\n",
        "plt.plot(epochs_range, loss, label='Training Loss')\n",
        "plt.plot(epochs_range, val_loss, label='Validation Loss')\n",
        "plt.legend(loc='upper right')\n",
        "plt.title('Training and Validation Loss')\n",
        "plt.show()\n"
      ]
    },
    {
      "cell_type": "code",
      "execution_count": 232,
      "metadata": {
        "id": "gl2g4OpjYqEM"
      },
      "outputs": [],
      "source": [
        "data_augmentation = keras.Sequential(\n",
        "    [\n",
        "        layers.experimental.preprocessing.RandomFlip(\"horizontal\",\n",
        "                                                    input_shape = (size, \n",
        "                                                                  size, \n",
        "                                                                  3)),\n",
        "        layers.experimental.preprocessing.RandomRotation(0.1),\n",
        "        layers.experimental.preprocessing.RandomZoom(0.1),\n",
        "    ]\n",
        ")"
      ]
    },
    {
      "cell_type": "code",
      "execution_count": 233,
      "metadata": {
        "id": "YKPir06yYsNr"
      },
      "outputs": [],
      "source": [
        "model = Sequential([\n",
        "    data_augmentation,\n",
        "    layers.experimental.preprocessing.Rescaling(1./255),\n",
        "    layers.Conv2D(16, 3, padding='same', activation='relu'),\n",
        "    layers.MaxPooling2D(),\n",
        "    layers.Conv2D(32, 3, padding='same', activation='relu'),\n",
        "    layers.MaxPooling2D(),\n",
        "    layers.Conv2D(64, 3, padding='same', activation='relu'),\n",
        "    layers.MaxPooling2D(),\n",
        "    layers.Dropout(0.25),\n",
        "    layers.Flatten(),\n",
        "    layers.Dense(128, activation='relu'),\n",
        "    layers.Dense(num_classes)\n",
        "])"
      ]
    },
    {
      "cell_type": "code",
      "execution_count": 234,
      "metadata": {
        "id": "rdrVF12xYvZM"
      },
      "outputs": [],
      "source": [
        "model.compile(\n",
        "    optimizer='adam',\n",
        "    loss=tf.keras.losses.SparseCategoricalCrossentropy(from_logits=True),\n",
        "    metrics=['accuracy']\n",
        ")\n"
      ]
    },
    {
      "cell_type": "code",
      "execution_count": 235,
      "metadata": {
        "colab": {
          "base_uri": "https://localhost:8080/"
        },
        "id": "EQLwqlVhYxFT",
        "outputId": "122998d0-aab6-4607-b2fa-9781726edb7a"
      },
      "outputs": [
        {
          "output_type": "stream",
          "name": "stdout",
          "text": [
            "Model: \"sequential_14\"\n",
            "_________________________________________________________________\n",
            " Layer (type)                Output Shape              Param #   \n",
            "=================================================================\n",
            " sequential_13 (Sequential)  (None, 180, 180, 3)       0         \n",
            "                                                                 \n",
            " rescaling_14 (Rescaling)    (None, 180, 180, 3)       0         \n",
            "                                                                 \n",
            " conv2d_27 (Conv2D)          (None, 180, 180, 16)      448       \n",
            "                                                                 \n",
            " max_pooling2d_27 (MaxPoolin  (None, 90, 90, 16)       0         \n",
            " g2D)                                                            \n",
            "                                                                 \n",
            " conv2d_28 (Conv2D)          (None, 90, 90, 32)        4640      \n",
            "                                                                 \n",
            " max_pooling2d_28 (MaxPoolin  (None, 45, 45, 32)       0         \n",
            " g2D)                                                            \n",
            "                                                                 \n",
            " conv2d_29 (Conv2D)          (None, 45, 45, 64)        18496     \n",
            "                                                                 \n",
            " max_pooling2d_29 (MaxPoolin  (None, 22, 22, 64)       0         \n",
            " g2D)                                                            \n",
            "                                                                 \n",
            " dropout_4 (Dropout)         (None, 22, 22, 64)        0         \n",
            "                                                                 \n",
            " flatten_9 (Flatten)         (None, 30976)             0         \n",
            "                                                                 \n",
            " dense_18 (Dense)            (None, 128)               3965056   \n",
            "                                                                 \n",
            " dense_19 (Dense)            (None, 5)                 645       \n",
            "                                                                 \n",
            "=================================================================\n",
            "Total params: 3,989,285\n",
            "Trainable params: 3,989,285\n",
            "Non-trainable params: 0\n",
            "_________________________________________________________________\n"
          ]
        }
      ],
      "source": [
        "model.summary()"
      ]
    },
    {
      "cell_type": "code",
      "execution_count": 236,
      "metadata": {
        "colab": {
          "base_uri": "https://localhost:8080/"
        },
        "id": "K9W4DE0aYy4N",
        "outputId": "06d3c545-1b03-4230-ad16-ae5c2afc5dd6"
      },
      "outputs": [
        {
          "output_type": "stream",
          "name": "stdout",
          "text": [
            "Epoch 1/15\n",
            "3/3 [==============================] - 5s 1s/step - loss: 2.2249 - accuracy: 0.2083 - val_loss: 2.1818 - val_accuracy: 0.1667\n",
            "Epoch 2/15\n",
            "3/3 [==============================] - 4s 1s/step - loss: 1.6648 - accuracy: 0.3229 - val_loss: 1.5387 - val_accuracy: 0.0833\n",
            "Epoch 3/15\n",
            "3/3 [==============================] - 4s 1s/step - loss: 1.4468 - accuracy: 0.2917 - val_loss: 1.4818 - val_accuracy: 0.0833\n",
            "Epoch 4/15\n",
            "3/3 [==============================] - 4s 1s/step - loss: 1.3726 - accuracy: 0.3021 - val_loss: 1.4514 - val_accuracy: 0.1667\n",
            "Epoch 5/15\n",
            "3/3 [==============================] - 4s 1s/step - loss: 1.2563 - accuracy: 0.3750 - val_loss: 1.3508 - val_accuracy: 0.2917\n",
            "Epoch 6/15\n",
            "3/3 [==============================] - 4s 1s/step - loss: 1.0787 - accuracy: 0.5729 - val_loss: 1.0743 - val_accuracy: 0.5000\n",
            "Epoch 7/15\n",
            "3/3 [==============================] - 4s 1s/step - loss: 1.0075 - accuracy: 0.6250 - val_loss: 0.9459 - val_accuracy: 0.5417\n",
            "Epoch 8/15\n",
            "3/3 [==============================] - 4s 1s/step - loss: 0.9458 - accuracy: 0.6250 - val_loss: 1.2587 - val_accuracy: 0.3750\n",
            "Epoch 9/15\n",
            "3/3 [==============================] - 4s 1s/step - loss: 0.8908 - accuracy: 0.6667 - val_loss: 0.7980 - val_accuracy: 0.5833\n",
            "Epoch 10/15\n",
            "3/3 [==============================] - 4s 1s/step - loss: 0.8809 - accuracy: 0.7188 - val_loss: 0.7318 - val_accuracy: 0.8333\n",
            "Epoch 11/15\n",
            "3/3 [==============================] - 4s 1s/step - loss: 0.6979 - accuracy: 0.7083 - val_loss: 0.9764 - val_accuracy: 0.5417\n",
            "Epoch 12/15\n",
            "3/3 [==============================] - 4s 1s/step - loss: 0.6798 - accuracy: 0.7188 - val_loss: 0.7446 - val_accuracy: 0.7917\n",
            "Epoch 13/15\n",
            "3/3 [==============================] - 4s 1s/step - loss: 0.6319 - accuracy: 0.7917 - val_loss: 0.5692 - val_accuracy: 0.8333\n",
            "Epoch 14/15\n",
            "3/3 [==============================] - 4s 1s/step - loss: 0.5717 - accuracy: 0.8021 - val_loss: 0.6435 - val_accuracy: 0.7500\n",
            "Epoch 15/15\n",
            "3/3 [==============================] - 4s 1s/step - loss: 0.6067 - accuracy: 0.7292 - val_loss: 0.8092 - val_accuracy: 0.7500\n"
          ]
        }
      ],
      "source": [
        "epochs = 15\n",
        "history = model.fit(\n",
        "    train_dataset,\n",
        "    validation_data=val_dataset,\n",
        "    epochs=epochs\n",
        ")"
      ]
    },
    {
      "cell_type": "code",
      "execution_count": 237,
      "metadata": {
        "id": "a6ff0kfBY_cz"
      },
      "outputs": [],
      "source": [
        "acc = history.history['accuracy']\n",
        "val_acc = history.history['val_accuracy']\n",
        "\n",
        "loss = history.history['loss']\n",
        "val_loss = history.history['val_loss']\n",
        "\n",
        "epochs_range = range(epochs)"
      ]
    },
    {
      "cell_type": "code",
      "execution_count": 238,
      "metadata": {
        "colab": {
          "base_uri": "https://localhost:8080/",
          "height": 499
        },
        "id": "gzBz_sTpZBYT",
        "outputId": "b7102b4f-328a-4a43-ec33-b36dfcef499d"
      },
      "outputs": [
        {
          "output_type": "display_data",
          "data": {
            "text/plain": [
              "<Figure size 576x576 with 2 Axes>"
            ],
            "image/png": "[encoded data removed]"
          },
          "metadata": {
            "needs_background": "light"
          }
        }
      ],
      "source": [
        "plt.figure(figsize=(8, 8))\n",
        "plt.subplot(1, 2, 1)\n",
        "plt.plot(epochs_range, acc, label='Training Accuracy')\n",
        "plt.plot(epochs_range, val_acc, label='Validation Accuracy')\n",
        "plt.legend(loc='lower right')\n",
        "plt.title('Training and Validation Accuracy')\n",
        "\n",
        "#Grafik training and validation loss\n",
        "plt.subplot(1, 2, 2)\n",
        "plt.plot(epochs_range, loss, label='Training Loss')\n",
        "plt.plot(epochs_range, val_loss, label='Validation Loss')\n",
        "plt.legend(loc='upper right')\n",
        "plt.title('Training and Validation Loss')\n",
        "plt.show()"
      ]
    },
    {
      "cell_type": "code",
      "execution_count": 239,
      "metadata": {
        "colab": {
          "base_uri": "https://localhost:8080/"
        },
        "id": "fQduUJ5rZFAD",
        "outputId": "c5a07d25-995d-4187-f230-94f8e19ece4c"
      },
      "outputs": [
        {
          "output_type": "stream",
          "name": "stdout",
          "text": [
            "INFO:tensorflow:Assets written to: model/assets\n"
          ]
        }
      ],
      "source": [
        "if not os.path.exists(data_model):\n",
        "  os.makedirs(data_model)\n",
        "\n",
        "model.save(data_model, overwrite=True)"
      ]
    },
    {
      "cell_type": "markdown",
      "metadata": {
        "id": "SA8PzGTiZZ5k"
      },
      "source": [
        "### Tahap pengujian"
      ]
    },
    {
      "cell_type": "code",
      "execution_count": 240,
      "metadata": {
        "colab": {
          "base_uri": "https://localhost:8080/"
        },
        "id": "J1i8hdycZYtL",
        "outputId": "3393c0ff-0993-4e4d-9538-e6857d65f549"
      },
      "outputs": [
        {
          "output_type": "execute_result",
          "data": {
            "text/plain": [
              "['.ipynb_checkpoints', 'daisy', 'roses', 'sunflower', 'tulips']"
            ]
          },
          "metadata": {},
          "execution_count": 240
        }
      ],
      "source": [
        "num_classes = len(class_names)\n",
        "class_names"
      ]
    },
    {
      "cell_type": "code",
      "execution_count": 241,
      "metadata": {
        "id": "kUbR_ggkZh0E",
        "colab": {
          "base_uri": "https://localhost:8080/"
        },
        "outputId": "b73afb57-376f-4247-c4ba-7bd9123872d7"
      },
      "outputs": [
        {
          "output_type": "stream",
          "name": "stdout",
          "text": [
            "WARNING:tensorflow:Detecting that an object or model or tf.train.Checkpoint is being deleted with unrestored values. See the following logs for the specific values in question. To silence these warnings, use `status.expect_partial()`. See https://www.tensorflow.org/api_docs/python/tf/train/Checkpoint#restorefor details about the status object returned by the restore function.\n",
            "WARNING:tensorflow:Value in checkpoint could not be found in the restored object: (root).layer-0.layer-0._random_generator._generator._state_var\n",
            "WARNING:tensorflow:Value in checkpoint could not be found in the restored object: (root).layer-0.layer-1._random_generator._generator._state_var\n",
            "WARNING:tensorflow:Value in checkpoint could not be found in the restored object: (root).layer-0.layer-2._random_generator._generator._state_var\n"
          ]
        }
      ],
      "source": [
        "model = keras.models.load_model(data_model)"
      ]
    },
    {
      "cell_type": "code",
      "execution_count": 242,
      "metadata": {
        "id": "OxyDu6M8Zjed"
      },
      "outputs": [],
      "source": [
        "img_pred_dir = 'prediction/sunflower.jpg'"
      ]
    },
    {
      "cell_type": "code",
      "execution_count": 243,
      "metadata": {
        "id": "j3X16LCGZp8s"
      },
      "outputs": [],
      "source": [
        "img_pred = keras.preprocessing.image.load_img(\n",
        "    img_pred_dir, target_size=(size, size)\n",
        ")"
      ]
    },
    {
      "cell_type": "code",
      "execution_count": 244,
      "metadata": {
        "id": "AENOssEIZrbr"
      },
      "outputs": [],
      "source": [
        "img_pred_array = keras.preprocessing.image.img_to_array(img_pred)\n",
        "img_pred_array = tf.expand_dims(img_pred_array, 0)"
      ]
    },
    {
      "cell_type": "code",
      "execution_count": 245,
      "metadata": {
        "id": "SazZJ0e_Zs3i"
      },
      "outputs": [],
      "source": [
        "prediction = model.predict(img_pred_array)\n",
        "score = tf.nn.softmax(prediction[0])"
      ]
    },
    {
      "cell_type": "code",
      "source": [
        "print(\n",
        "    \"This image most likely belongs to {} with a {:.2f} percent confidence.\"\n",
        "    .format(class_names[np.argmax(score)], 100 * np.max(score))\n",
        ")\n"
      ],
      "metadata": {
        "colab": {
          "base_uri": "https://localhost:8080/"
        },
        "id": "Jfz9-R6ScyGs",
        "outputId": "2be319ca-f2af-4bf5-95ea-08ffd974095d"
      },
      "execution_count": 246,
      "outputs": [
        {
          "output_type": "stream",
          "name": "stdout",
          "text": [
            "This image most likely belongs to tulips with a 39.19 percent confidence.\n"
          ]
        }
      ]
    }
  ],
  "metadata": {
    "colab": {
      "name": "CNN_ADITIA.ipynb",
      "provenance": [],
      "authorship_tag": "ABX9TyN7PprYC4LfDC3Q1rgX/c6k",
      "include_colab_link": true
    },
    "kernelspec": {
      "display_name": "Python 3",
      "name": "python3"
    },
    "language_info": {
      "name": "python"
    }
  },
  "nbformat": 4,
  "nbformat_minor": 0
}